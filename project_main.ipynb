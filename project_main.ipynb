{
 "cells": [
  {
   "cell_type": "code",
   "execution_count": 248,
   "metadata": {},
   "outputs": [],
   "source": [
    "from PIL import ImageGrab\n",
    "import numpy as np\n",
    "import matplotlib.pyplot as plt\n",
    "import time"
   ]
  },
  {
   "cell_type": "code",
   "execution_count": null,
   "metadata": {},
   "outputs": [],
   "source": []
  },
  {
   "cell_type": "code",
   "execution_count": null,
   "metadata": {},
   "outputs": [],
   "source": []
  },
  {
   "cell_type": "code",
   "execution_count": null,
   "metadata": {},
   "outputs": [],
   "source": []
  },
  {
   "cell_type": "code",
   "execution_count": 258,
   "metadata": {},
   "outputs": [],
   "source": [
    "def Screenshot_1_result():\n",
    "#from PIL import ImageGrab\n",
    "    im=ImageGrab.grab(bbox=(300,100,1000,1000))\n",
    "    width = 410  # 图片大小\n",
    "    height = 250\n",
    "    ima=im.crop((\n",
    "            width - 50,\n",
    "            height - 145,\n",
    "            width-45,\n",
    "            height-140))\n",
    "    return np.array(ima)[1][1]\n",
    "\n",
    "def WhatHappend_1(): #第一號台，當前情形\n",
    "    result=Screenshot_1_result()\n",
    "    if list(result)==[0,153,51]:\n",
    "        #print('和')\n",
    "        return 3\n",
    "    elif list(result)==[0,51,204]:\n",
    "        #print('閒贏')\n",
    "        return 2\n",
    "    elif list(result)==[204,0,51]:\n",
    "        #print('莊贏')\n",
    "        return 1\n",
    "    elif list(result)==[51,51,51]:\n",
    "        #print('結算中')\n",
    "        return 4\n",
    "    elif list(result)==[255,255,255]:\n",
    "        #print('可以下注')\n",
    "        return 5\n",
    "    else:\n",
    "        #print('error')\n",
    "        return 0"
   ]
  },
  {
   "cell_type": "code",
   "execution_count": 208,
   "metadata": {},
   "outputs": [
    {
     "data": {
      "text/plain": [
       "array([51, 51, 51], dtype=uint8)"
      ]
     },
     "execution_count": 208,
     "metadata": {},
     "output_type": "execute_result"
    }
   ],
   "source": [
    "result"
   ]
  },
  {
   "cell_type": "code",
   "execution_count": 243,
   "metadata": {
    "scrolled": false
   },
   "outputs": [
    {
     "name": "stdout",
     "output_type": "stream",
     "text": [
      "\r",
      "莊贏\n"
     ]
    }
   ],
   "source": [
    "\n",
    "result=Screenshot_1_result()\n",
    "print('\\r',end='')\n",
    "if list(result)==[0,153,51]:\n",
    "    print('和')#和\n",
    "elif list(result)==[0,51,204]:\n",
    "    print('閒贏')\n",
    "elif list(result)==[204,0,51]:\n",
    "    print('莊贏')\n",
    "elif list(result)==[51,51,51]:\n",
    "    print('結算中')\n",
    "elif list(result)==[255,255,255]:\n",
    "    print('可以下注')"
   ]
  },
  {
   "cell_type": "code",
   "execution_count": 254,
   "metadata": {},
   "outputs": [],
   "source": []
  },
  {
   "cell_type": "code",
   "execution_count": 257,
   "metadata": {},
   "outputs": [
    {
     "name": "stdout",
     "output_type": "stream",
     "text": [
      " 0"
     ]
    }
   ],
   "source": [
    "for i in range(100):\n",
    "    time.sleep(0.25)\n",
    "    print('\\r',WhatHappend_1(),end='')"
   ]
  },
  {
   "cell_type": "code",
   "execution_count": 63,
   "metadata": {
    "scrolled": true
   },
   "outputs": [],
   "source": [
    "np_im = np.array(a)"
   ]
  },
  {
   "cell_type": "code",
   "execution_count": 64,
   "metadata": {},
   "outputs": [
    {
     "data": {
      "text/plain": [
       "2244692"
      ]
     },
     "execution_count": 64,
     "metadata": {},
     "output_type": "execute_result"
    }
   ],
   "source": [
    "np_im.sum()"
   ]
  },
  {
   "cell_type": "code",
   "execution_count": 65,
   "metadata": {
    "scrolled": false
   },
   "outputs": [],
   "source": [
    "a.save('pos1.jpg')"
   ]
  },
  {
   "cell_type": "code",
   "execution_count": 73,
   "metadata": {},
   "outputs": [],
   "source": []
  },
  {
   "cell_type": "code",
   "execution_count": 238,
   "metadata": {},
   "outputs": [
    {
     "data": {
      "image/png": "[encoded data removed]",
      "text/plain": [
       "<PIL.Image.Image image mode=RGB size=5x5 at 0x1E5F61B71D0>"
      ]
     },
     "execution_count": 238,
     "metadata": {},
     "output_type": "execute_result"
    }
   ],
   "source": []
  },
  {
   "cell_type": "code",
   "execution_count": 235,
   "metadata": {},
   "outputs": [
    {
     "data": {
      "text/plain": [
       "array([255, 255, 255], dtype=uint8)"
      ]
     },
     "execution_count": 235,
     "metadata": {},
     "output_type": "execute_result"
    }
   ],
   "source": []
  },
  {
   "cell_type": "code",
   "execution_count": 236,
   "metadata": {},
   "outputs": [
    {
     "data": {
      "text/plain": [
       "False"
      ]
     },
     "execution_count": 236,
     "metadata": {},
     "output_type": "execute_result"
    }
   ],
   "source": []
  },
  {
   "cell_type": "code",
   "execution_count": 237,
   "metadata": {},
   "outputs": [
    {
     "data": {
      "text/plain": [
       "False"
      ]
     },
     "execution_count": 237,
     "metadata": {},
     "output_type": "execute_result"
    }
   ],
   "source": []
  },
  {
   "cell_type": "code",
   "execution_count": null,
   "metadata": {},
   "outputs": [],
   "source": []
  },
  {
   "cell_type": "code",
   "execution_count": null,
   "metadata": {},
   "outputs": [],
   "source": []
  }
 ],
 "metadata": {
  "kernelspec": {
   "display_name": "Python 3",
   "language": "python",
   "name": "python3"
  },
  "language_info": {
   "codemirror_mode": {
    "name": "ipython",
    "version": 3
   },
   "file_extension": ".py",
   "mimetype": "text/x-python",
   "name": "python",
   "nbconvert_exporter": "python",
   "pygments_lexer": "ipython3",
   "version": "3.6.5"
  }
 },
 "nbformat": 4,
 "nbformat_minor": 2
}
